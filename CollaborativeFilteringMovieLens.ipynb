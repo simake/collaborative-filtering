{
  "nbformat": 4,
  "nbformat_minor": 0,
  "metadata": {
    "colab": {
      "name": "CollaborativeFilteringMovieLens.ipynb",
      "provenance": [],
      "collapsed_sections": [],
      "toc_visible": true,
      "machine_shape": "hm"
    },
    "kernelspec": {
      "name": "python3",
      "display_name": "Python 3"
    },
    "accelerator": "GPU"
  },
  "cells": [
    {
      "cell_type": "markdown",
      "metadata": {
        "id": "Be-qANT4SFrO"
      },
      "source": [
        "TODO:\n",
        "* Try using SGD or Adagrad\n",
        "* Try different measurements (pearson, cosine, euclidian, etc.)\n",
        "* See if increasing dataloader workers improves training speed\n",
        "* Try removing users with few ratings (like I did with movies since vanilla CF doesn't address the cold-start problem)\n",
        "* Try replacing all ratings with a 1, indicating it has been watched (but then I also have to generate negative examples)\n",
        "* Try to balance the dataset (to avoid a bias towards popular movies)"
      ]
    },
    {
      "cell_type": "markdown",
      "metadata": {
        "id": "4UanK6etvhNe"
      },
      "source": [
        "### Initialization for running in Colab"
      ]
    },
    {
      "cell_type": "code",
      "metadata": {
        "id": "0AaGNwIuqqVU",
        "outputId": "116dcc48-4f18-4d8a-c543-e3f377b7123b",
        "colab": {
          "base_uri": "https://localhost:8080/",
          "height": 34
        }
      },
      "source": [
        "from google.colab import drive\n",
        "drive.mount('/content/drive')"
      ],
      "execution_count": 1,
      "outputs": [
        {
          "output_type": "stream",
          "text": [
            "Mounted at /content/drive\n"
          ],
          "name": "stdout"
        }
      ]
    },
    {
      "cell_type": "markdown",
      "metadata": {
        "id": "bilqpuEF2jGs"
      },
      "source": [
        "### Basic imports"
      ]
    },
    {
      "cell_type": "code",
      "metadata": {
        "id": "bUlgi0MP8UkF"
      },
      "source": [
        "import numpy as np\n",
        "import pandas as pd\n",
        "import torch\n",
        "import matplotlib.pyplot as plt"
      ],
      "execution_count": 2,
      "outputs": []
    },
    {
      "cell_type": "markdown",
      "metadata": {
        "id": "d3nF-JicxVtK"
      },
      "source": [
        "### Data loading"
      ]
    },
    {
      "cell_type": "code",
      "metadata": {
        "id": "v2T2GM0NwqAb"
      },
      "source": [
        "datasets_dir = '/content/drive/My Drive/datasets/'\n",
        "dataset_zipped = datasets_dir + 'ml-25m.zip'\n",
        "dataset_unzipped = 'ml-25m/'"
      ],
      "execution_count": 3,
      "outputs": []
    },
    {
      "cell_type": "code",
      "metadata": {
        "id": "2U1LveufxaTN",
        "outputId": "720cba28-7c62-4aa9-e134-a4c1b09b885f",
        "colab": {
          "base_uri": "https://localhost:8080/",
          "height": 187
        }
      },
      "source": [
        "import os\n",
        "\n",
        "if os.path.exists(dataset_unzipped):\n",
        "    print('Dataset found.')\n",
        "elif os.path.exists(dataset_zipped):\n",
        "    !unzip \"$dataset_zipped\"\n",
        "    print('Dataset extracted.')\n",
        "else:\n",
        "    raise Exception('Dataset not found.')"
      ],
      "execution_count": 4,
      "outputs": [
        {
          "output_type": "stream",
          "text": [
            "Archive:  /content/drive/My Drive/datasets/ml-25m.zip\n",
            "   creating: ml-25m/\n",
            "  inflating: ml-25m/tags.csv         \n",
            "  inflating: ml-25m/links.csv        \n",
            "  inflating: ml-25m/README.txt       \n",
            "  inflating: ml-25m/ratings.csv      \n",
            "  inflating: ml-25m/genome-tags.csv  \n",
            "  inflating: ml-25m/genome-scores.csv  \n",
            "  inflating: ml-25m/movies.csv       \n",
            "Dataset extracted.\n"
          ],
          "name": "stdout"
        }
      ]
    },
    {
      "cell_type": "code",
      "metadata": {
        "id": "2GSaqrtHN0Jn",
        "outputId": "aae29812-5ab4-4444-879a-dbaa466702bc",
        "colab": {
          "base_uri": "https://localhost:8080/",
          "height": 419
        }
      },
      "source": [
        "ratings = pd.read_csv(dataset_unzipped + 'ratings.csv', usecols=['userId', 'movieId', 'rating'])\n",
        "ratings"
      ],
      "execution_count": 5,
      "outputs": [
        {
          "output_type": "execute_result",
          "data": {
            "text/html": [
              "<div>\n",
              "<style scoped>\n",
              "    .dataframe tbody tr th:only-of-type {\n",
              "        vertical-align: middle;\n",
              "    }\n",
              "\n",
              "    .dataframe tbody tr th {\n",
              "        vertical-align: top;\n",
              "    }\n",
              "\n",
              "    .dataframe thead th {\n",
              "        text-align: right;\n",
              "    }\n",
              "</style>\n",
              "<table border=\"1\" class=\"dataframe\">\n",
              "  <thead>\n",
              "    <tr style=\"text-align: right;\">\n",
              "      <th></th>\n",
              "      <th>userId</th>\n",
              "      <th>movieId</th>\n",
              "      <th>rating</th>\n",
              "    </tr>\n",
              "  </thead>\n",
              "  <tbody>\n",
              "    <tr>\n",
              "      <th>0</th>\n",
              "      <td>1</td>\n",
              "      <td>296</td>\n",
              "      <td>5.0</td>\n",
              "    </tr>\n",
              "    <tr>\n",
              "      <th>1</th>\n",
              "      <td>1</td>\n",
              "      <td>306</td>\n",
              "      <td>3.5</td>\n",
              "    </tr>\n",
              "    <tr>\n",
              "      <th>2</th>\n",
              "      <td>1</td>\n",
              "      <td>307</td>\n",
              "      <td>5.0</td>\n",
              "    </tr>\n",
              "    <tr>\n",
              "      <th>3</th>\n",
              "      <td>1</td>\n",
              "      <td>665</td>\n",
              "      <td>5.0</td>\n",
              "    </tr>\n",
              "    <tr>\n",
              "      <th>4</th>\n",
              "      <td>1</td>\n",
              "      <td>899</td>\n",
              "      <td>3.5</td>\n",
              "    </tr>\n",
              "    <tr>\n",
              "      <th>...</th>\n",
              "      <td>...</td>\n",
              "      <td>...</td>\n",
              "      <td>...</td>\n",
              "    </tr>\n",
              "    <tr>\n",
              "      <th>25000090</th>\n",
              "      <td>162541</td>\n",
              "      <td>50872</td>\n",
              "      <td>4.5</td>\n",
              "    </tr>\n",
              "    <tr>\n",
              "      <th>25000091</th>\n",
              "      <td>162541</td>\n",
              "      <td>55768</td>\n",
              "      <td>2.5</td>\n",
              "    </tr>\n",
              "    <tr>\n",
              "      <th>25000092</th>\n",
              "      <td>162541</td>\n",
              "      <td>56176</td>\n",
              "      <td>2.0</td>\n",
              "    </tr>\n",
              "    <tr>\n",
              "      <th>25000093</th>\n",
              "      <td>162541</td>\n",
              "      <td>58559</td>\n",
              "      <td>4.0</td>\n",
              "    </tr>\n",
              "    <tr>\n",
              "      <th>25000094</th>\n",
              "      <td>162541</td>\n",
              "      <td>63876</td>\n",
              "      <td>5.0</td>\n",
              "    </tr>\n",
              "  </tbody>\n",
              "</table>\n",
              "<p>25000095 rows × 3 columns</p>\n",
              "</div>"
            ],
            "text/plain": [
              "          userId  movieId  rating\n",
              "0              1      296     5.0\n",
              "1              1      306     3.5\n",
              "2              1      307     5.0\n",
              "3              1      665     5.0\n",
              "4              1      899     3.5\n",
              "...          ...      ...     ...\n",
              "25000090  162541    50872     4.5\n",
              "25000091  162541    55768     2.5\n",
              "25000092  162541    56176     2.0\n",
              "25000093  162541    58559     4.0\n",
              "25000094  162541    63876     5.0\n",
              "\n",
              "[25000095 rows x 3 columns]"
            ]
          },
          "metadata": {
            "tags": []
          },
          "execution_count": 5
        }
      ]
    },
    {
      "cell_type": "code",
      "metadata": {
        "id": "fXMmZNuqhEAR",
        "outputId": "9d8d5490-3e5a-4cb7-d9b8-1fc8ce4de41f",
        "colab": {
          "base_uri": "https://localhost:8080/",
          "height": 419
        }
      },
      "source": [
        "movies = pd.read_csv(dataset_unzipped + 'movies.csv')\n",
        "movies"
      ],
      "execution_count": 6,
      "outputs": [
        {
          "output_type": "execute_result",
          "data": {
            "text/html": [
              "<div>\n",
              "<style scoped>\n",
              "    .dataframe tbody tr th:only-of-type {\n",
              "        vertical-align: middle;\n",
              "    }\n",
              "\n",
              "    .dataframe tbody tr th {\n",
              "        vertical-align: top;\n",
              "    }\n",
              "\n",
              "    .dataframe thead th {\n",
              "        text-align: right;\n",
              "    }\n",
              "</style>\n",
              "<table border=\"1\" class=\"dataframe\">\n",
              "  <thead>\n",
              "    <tr style=\"text-align: right;\">\n",
              "      <th></th>\n",
              "      <th>movieId</th>\n",
              "      <th>title</th>\n",
              "      <th>genres</th>\n",
              "    </tr>\n",
              "  </thead>\n",
              "  <tbody>\n",
              "    <tr>\n",
              "      <th>0</th>\n",
              "      <td>1</td>\n",
              "      <td>Toy Story (1995)</td>\n",
              "      <td>Adventure|Animation|Children|Comedy|Fantasy</td>\n",
              "    </tr>\n",
              "    <tr>\n",
              "      <th>1</th>\n",
              "      <td>2</td>\n",
              "      <td>Jumanji (1995)</td>\n",
              "      <td>Adventure|Children|Fantasy</td>\n",
              "    </tr>\n",
              "    <tr>\n",
              "      <th>2</th>\n",
              "      <td>3</td>\n",
              "      <td>Grumpier Old Men (1995)</td>\n",
              "      <td>Comedy|Romance</td>\n",
              "    </tr>\n",
              "    <tr>\n",
              "      <th>3</th>\n",
              "      <td>4</td>\n",
              "      <td>Waiting to Exhale (1995)</td>\n",
              "      <td>Comedy|Drama|Romance</td>\n",
              "    </tr>\n",
              "    <tr>\n",
              "      <th>4</th>\n",
              "      <td>5</td>\n",
              "      <td>Father of the Bride Part II (1995)</td>\n",
              "      <td>Comedy</td>\n",
              "    </tr>\n",
              "    <tr>\n",
              "      <th>...</th>\n",
              "      <td>...</td>\n",
              "      <td>...</td>\n",
              "      <td>...</td>\n",
              "    </tr>\n",
              "    <tr>\n",
              "      <th>62418</th>\n",
              "      <td>209157</td>\n",
              "      <td>We (2018)</td>\n",
              "      <td>Drama</td>\n",
              "    </tr>\n",
              "    <tr>\n",
              "      <th>62419</th>\n",
              "      <td>209159</td>\n",
              "      <td>Window of the Soul (2001)</td>\n",
              "      <td>Documentary</td>\n",
              "    </tr>\n",
              "    <tr>\n",
              "      <th>62420</th>\n",
              "      <td>209163</td>\n",
              "      <td>Bad Poems (2018)</td>\n",
              "      <td>Comedy|Drama</td>\n",
              "    </tr>\n",
              "    <tr>\n",
              "      <th>62421</th>\n",
              "      <td>209169</td>\n",
              "      <td>A Girl Thing (2001)</td>\n",
              "      <td>(no genres listed)</td>\n",
              "    </tr>\n",
              "    <tr>\n",
              "      <th>62422</th>\n",
              "      <td>209171</td>\n",
              "      <td>Women of Devil's Island (1962)</td>\n",
              "      <td>Action|Adventure|Drama</td>\n",
              "    </tr>\n",
              "  </tbody>\n",
              "</table>\n",
              "<p>62423 rows × 3 columns</p>\n",
              "</div>"
            ],
            "text/plain": [
              "       movieId  ...                                       genres\n",
              "0            1  ...  Adventure|Animation|Children|Comedy|Fantasy\n",
              "1            2  ...                   Adventure|Children|Fantasy\n",
              "2            3  ...                               Comedy|Romance\n",
              "3            4  ...                         Comedy|Drama|Romance\n",
              "4            5  ...                                       Comedy\n",
              "...        ...  ...                                          ...\n",
              "62418   209157  ...                                        Drama\n",
              "62419   209159  ...                                  Documentary\n",
              "62420   209163  ...                                 Comedy|Drama\n",
              "62421   209169  ...                           (no genres listed)\n",
              "62422   209171  ...                       Action|Adventure|Drama\n",
              "\n",
              "[62423 rows x 3 columns]"
            ]
          },
          "metadata": {
            "tags": []
          },
          "execution_count": 6
        }
      ]
    },
    {
      "cell_type": "markdown",
      "metadata": {
        "id": "vuOa6082oYKG"
      },
      "source": [
        "### Preprocessing"
      ]
    },
    {
      "cell_type": "markdown",
      "metadata": {
        "id": "pHtstkVUj8X1"
      },
      "source": [
        "Remove movies with few ratings to avoid the cold-start problem. The movies with very few ratings would have to be handled differently, for example with a content-based approach, but that is outside the scope of this notebook."
      ]
    },
    {
      "cell_type": "code",
      "metadata": {
        "id": "VyeQD490458M"
      },
      "source": [
        "rating_counts = ratings.movieId.astype('category').value_counts().rename('num_ratings')\n",
        "movies = movies.merge(rating_counts, left_on='movieId', right_index=True)"
      ],
      "execution_count": 7,
      "outputs": []
    },
    {
      "cell_type": "code",
      "metadata": {
        "id": "tk1YNrs5vq0K",
        "outputId": "657efedc-11e5-4483-e416-857e8947d09c",
        "colab": {
          "base_uri": "https://localhost:8080/",
          "height": 359
        }
      },
      "source": [
        "movies.sort_values('num_ratings', ascending=False).head(10)"
      ],
      "execution_count": 8,
      "outputs": [
        {
          "output_type": "execute_result",
          "data": {
            "text/html": [
              "<div>\n",
              "<style scoped>\n",
              "    .dataframe tbody tr th:only-of-type {\n",
              "        vertical-align: middle;\n",
              "    }\n",
              "\n",
              "    .dataframe tbody tr th {\n",
              "        vertical-align: top;\n",
              "    }\n",
              "\n",
              "    .dataframe thead th {\n",
              "        text-align: right;\n",
              "    }\n",
              "</style>\n",
              "<table border=\"1\" class=\"dataframe\">\n",
              "  <thead>\n",
              "    <tr style=\"text-align: right;\">\n",
              "      <th></th>\n",
              "      <th>movieId</th>\n",
              "      <th>title</th>\n",
              "      <th>genres</th>\n",
              "      <th>num_ratings</th>\n",
              "    </tr>\n",
              "  </thead>\n",
              "  <tbody>\n",
              "    <tr>\n",
              "      <th>351</th>\n",
              "      <td>356</td>\n",
              "      <td>Forrest Gump (1994)</td>\n",
              "      <td>Comedy|Drama|Romance|War</td>\n",
              "      <td>81491</td>\n",
              "    </tr>\n",
              "    <tr>\n",
              "      <th>314</th>\n",
              "      <td>318</td>\n",
              "      <td>Shawshank Redemption, The (1994)</td>\n",
              "      <td>Crime|Drama</td>\n",
              "      <td>81482</td>\n",
              "    </tr>\n",
              "    <tr>\n",
              "      <th>292</th>\n",
              "      <td>296</td>\n",
              "      <td>Pulp Fiction (1994)</td>\n",
              "      <td>Comedy|Crime|Drama|Thriller</td>\n",
              "      <td>79672</td>\n",
              "    </tr>\n",
              "    <tr>\n",
              "      <th>585</th>\n",
              "      <td>593</td>\n",
              "      <td>Silence of the Lambs, The (1991)</td>\n",
              "      <td>Crime|Horror|Thriller</td>\n",
              "      <td>74127</td>\n",
              "    </tr>\n",
              "    <tr>\n",
              "      <th>2480</th>\n",
              "      <td>2571</td>\n",
              "      <td>Matrix, The (1999)</td>\n",
              "      <td>Action|Sci-Fi|Thriller</td>\n",
              "      <td>72674</td>\n",
              "    </tr>\n",
              "    <tr>\n",
              "      <th>257</th>\n",
              "      <td>260</td>\n",
              "      <td>Star Wars: Episode IV - A New Hope (1977)</td>\n",
              "      <td>Action|Adventure|Sci-Fi</td>\n",
              "      <td>68717</td>\n",
              "    </tr>\n",
              "    <tr>\n",
              "      <th>475</th>\n",
              "      <td>480</td>\n",
              "      <td>Jurassic Park (1993)</td>\n",
              "      <td>Action|Adventure|Sci-Fi|Thriller</td>\n",
              "      <td>64144</td>\n",
              "    </tr>\n",
              "    <tr>\n",
              "      <th>522</th>\n",
              "      <td>527</td>\n",
              "      <td>Schindler's List (1993)</td>\n",
              "      <td>Drama|War</td>\n",
              "      <td>60411</td>\n",
              "    </tr>\n",
              "    <tr>\n",
              "      <th>108</th>\n",
              "      <td>110</td>\n",
              "      <td>Braveheart (1995)</td>\n",
              "      <td>Action|Drama|War</td>\n",
              "      <td>59184</td>\n",
              "    </tr>\n",
              "    <tr>\n",
              "      <th>2867</th>\n",
              "      <td>2959</td>\n",
              "      <td>Fight Club (1999)</td>\n",
              "      <td>Action|Crime|Drama|Thriller</td>\n",
              "      <td>58773</td>\n",
              "    </tr>\n",
              "  </tbody>\n",
              "</table>\n",
              "</div>"
            ],
            "text/plain": [
              "     movieId  ... num_ratings\n",
              "351      356  ...       81491\n",
              "314      318  ...       81482\n",
              "292      296  ...       79672\n",
              "585      593  ...       74127\n",
              "2480    2571  ...       72674\n",
              "257      260  ...       68717\n",
              "475      480  ...       64144\n",
              "522      527  ...       60411\n",
              "108      110  ...       59184\n",
              "2867    2959  ...       58773\n",
              "\n",
              "[10 rows x 4 columns]"
            ]
          },
          "metadata": {
            "tags": []
          },
          "execution_count": 8
        }
      ]
    },
    {
      "cell_type": "code",
      "metadata": {
        "id": "kNU2uAOevzHQ",
        "outputId": "b9dbd9d7-6d4b-4169-9148-7d298efa3a95",
        "colab": {
          "base_uri": "https://localhost:8080/",
          "height": 34
        }
      },
      "source": [
        "# A large portion of the movies are rated by only a handful of people\n",
        "movies[movies.num_ratings < 10].num_ratings.count()"
      ],
      "execution_count": 9,
      "outputs": [
        {
          "output_type": "execute_result",
          "data": {
            "text/plain": [
              "34717"
            ]
          },
          "metadata": {
            "tags": []
          },
          "execution_count": 9
        }
      ]
    },
    {
      "cell_type": "code",
      "metadata": {
        "id": "mgmxf0H2oel6"
      },
      "source": [
        "# Only keep movies with a decent amount of ratings\n",
        "num_ratings_threshold = 1000\n",
        "\n",
        "movies_to_keep = movies[movies.num_ratings >= num_ratings_threshold].movieId\n",
        "ratings = ratings[ratings.movieId.isin(movies_to_keep)]\n",
        "movies = movies[movies.movieId.isin(movies_to_keep)]"
      ],
      "execution_count": 10,
      "outputs": []
    },
    {
      "cell_type": "markdown",
      "metadata": {
        "id": "w-KlekWQUVnc"
      },
      "source": [
        "Reset IDs"
      ]
    },
    {
      "cell_type": "code",
      "metadata": {
        "id": "-LIFhaXB9Z60"
      },
      "source": [
        "id2ml = dict(enumerate(ratings.movieId.unique()))\n",
        "ml2id = dict((ml, id) for id, ml in id2ml.items())"
      ],
      "execution_count": 11,
      "outputs": []
    },
    {
      "cell_type": "code",
      "metadata": {
        "id": "CUvkDyXHKpiH"
      },
      "source": [
        "ratings.movieId = ratings.movieId.map(ml2id)\n",
        "ratings.userId = ratings.userId.astype('category').cat.codes.values\n",
        "movies.movieId = movies.movieId.map(ml2id)"
      ],
      "execution_count": null,
      "outputs": []
    },
    {
      "cell_type": "code",
      "metadata": {
        "id": "1dK9prt70LIq",
        "outputId": "e8f89415-4794-47ac-a145-78dde8047e6f",
        "colab": {
          "base_uri": "https://localhost:8080/",
          "height": 419
        }
      },
      "source": [
        "ratings"
      ],
      "execution_count": 13,
      "outputs": [
        {
          "output_type": "execute_result",
          "data": {
            "text/html": [
              "<div>\n",
              "<style scoped>\n",
              "    .dataframe tbody tr th:only-of-type {\n",
              "        vertical-align: middle;\n",
              "    }\n",
              "\n",
              "    .dataframe tbody tr th {\n",
              "        vertical-align: top;\n",
              "    }\n",
              "\n",
              "    .dataframe thead th {\n",
              "        text-align: right;\n",
              "    }\n",
              "</style>\n",
              "<table border=\"1\" class=\"dataframe\">\n",
              "  <thead>\n",
              "    <tr style=\"text-align: right;\">\n",
              "      <th></th>\n",
              "      <th>userId</th>\n",
              "      <th>movieId</th>\n",
              "      <th>rating</th>\n",
              "    </tr>\n",
              "  </thead>\n",
              "  <tbody>\n",
              "    <tr>\n",
              "      <th>0</th>\n",
              "      <td>0</td>\n",
              "      <td>0</td>\n",
              "      <td>5.0</td>\n",
              "    </tr>\n",
              "    <tr>\n",
              "      <th>1</th>\n",
              "      <td>0</td>\n",
              "      <td>1</td>\n",
              "      <td>3.5</td>\n",
              "    </tr>\n",
              "    <tr>\n",
              "      <th>2</th>\n",
              "      <td>0</td>\n",
              "      <td>2</td>\n",
              "      <td>5.0</td>\n",
              "    </tr>\n",
              "    <tr>\n",
              "      <th>3</th>\n",
              "      <td>0</td>\n",
              "      <td>3</td>\n",
              "      <td>5.0</td>\n",
              "    </tr>\n",
              "    <tr>\n",
              "      <th>4</th>\n",
              "      <td>0</td>\n",
              "      <td>4</td>\n",
              "      <td>3.5</td>\n",
              "    </tr>\n",
              "    <tr>\n",
              "      <th>...</th>\n",
              "      <td>...</td>\n",
              "      <td>...</td>\n",
              "      <td>...</td>\n",
              "    </tr>\n",
              "    <tr>\n",
              "      <th>25000090</th>\n",
              "      <td>162538</td>\n",
              "      <td>508</td>\n",
              "      <td>4.5</td>\n",
              "    </tr>\n",
              "    <tr>\n",
              "      <th>25000091</th>\n",
              "      <td>162538</td>\n",
              "      <td>3169</td>\n",
              "      <td>2.5</td>\n",
              "    </tr>\n",
              "    <tr>\n",
              "      <th>25000092</th>\n",
              "      <td>162538</td>\n",
              "      <td>3717</td>\n",
              "      <td>2.0</td>\n",
              "    </tr>\n",
              "    <tr>\n",
              "      <th>25000093</th>\n",
              "      <td>162538</td>\n",
              "      <td>541</td>\n",
              "      <td>4.0</td>\n",
              "    </tr>\n",
              "    <tr>\n",
              "      <th>25000094</th>\n",
              "      <td>162538</td>\n",
              "      <td>567</td>\n",
              "      <td>5.0</td>\n",
              "    </tr>\n",
              "  </tbody>\n",
              "</table>\n",
              "<p>22141815 rows × 3 columns</p>\n",
              "</div>"
            ],
            "text/plain": [
              "          userId  movieId  rating\n",
              "0              0        0     5.0\n",
              "1              0        1     3.5\n",
              "2              0        2     5.0\n",
              "3              0        3     5.0\n",
              "4              0        4     3.5\n",
              "...          ...      ...     ...\n",
              "25000090  162538      508     4.5\n",
              "25000091  162538     3169     2.5\n",
              "25000092  162538     3717     2.0\n",
              "25000093  162538      541     4.0\n",
              "25000094  162538      567     5.0\n",
              "\n",
              "[22141815 rows x 3 columns]"
            ]
          },
          "metadata": {
            "tags": []
          },
          "execution_count": 13
        }
      ]
    },
    {
      "cell_type": "code",
      "metadata": {
        "id": "Nkr6RUXn0NEt",
        "outputId": "fedc5e2f-e12a-4860-f65b-5312d4d30478",
        "colab": {
          "base_uri": "https://localhost:8080/",
          "height": 419
        }
      },
      "source": [
        "movies"
      ],
      "execution_count": 14,
      "outputs": [
        {
          "output_type": "execute_result",
          "data": {
            "text/html": [
              "<div>\n",
              "<style scoped>\n",
              "    .dataframe tbody tr th:only-of-type {\n",
              "        vertical-align: middle;\n",
              "    }\n",
              "\n",
              "    .dataframe tbody tr th {\n",
              "        vertical-align: top;\n",
              "    }\n",
              "\n",
              "    .dataframe thead th {\n",
              "        text-align: right;\n",
              "    }\n",
              "</style>\n",
              "<table border=\"1\" class=\"dataframe\">\n",
              "  <thead>\n",
              "    <tr style=\"text-align: right;\">\n",
              "      <th></th>\n",
              "      <th>movieId</th>\n",
              "      <th>title</th>\n",
              "      <th>genres</th>\n",
              "      <th>num_ratings</th>\n",
              "    </tr>\n",
              "  </thead>\n",
              "  <tbody>\n",
              "    <tr>\n",
              "      <th>0</th>\n",
              "      <td>47</td>\n",
              "      <td>Toy Story (1995)</td>\n",
              "      <td>Adventure|Animation|Children|Comedy|Fantasy</td>\n",
              "      <td>57309</td>\n",
              "    </tr>\n",
              "    <tr>\n",
              "      <th>1</th>\n",
              "      <td>1032</td>\n",
              "      <td>Jumanji (1995)</td>\n",
              "      <td>Adventure|Children|Fantasy</td>\n",
              "      <td>24228</td>\n",
              "    </tr>\n",
              "    <tr>\n",
              "      <th>2</th>\n",
              "      <td>952</td>\n",
              "      <td>Grumpier Old Men (1995)</td>\n",
              "      <td>Comedy|Romance</td>\n",
              "      <td>11804</td>\n",
              "    </tr>\n",
              "    <tr>\n",
              "      <th>3</th>\n",
              "      <td>3041</td>\n",
              "      <td>Waiting to Exhale (1995)</td>\n",
              "      <td>Comedy|Drama|Romance</td>\n",
              "      <td>2523</td>\n",
              "    </tr>\n",
              "    <tr>\n",
              "      <th>4</th>\n",
              "      <td>1664</td>\n",
              "      <td>Father of the Bride Part II (1995)</td>\n",
              "      <td>Comedy</td>\n",
              "      <td>11714</td>\n",
              "    </tr>\n",
              "    <tr>\n",
              "      <th>...</th>\n",
              "      <td>...</td>\n",
              "      <td>...</td>\n",
              "      <td>...</td>\n",
              "      <td>...</td>\n",
              "    </tr>\n",
              "    <tr>\n",
              "      <th>55643</th>\n",
              "      <td>3072</td>\n",
              "      <td>Venom (2018)</td>\n",
              "      <td>Action|Horror|Sci-Fi|Thriller</td>\n",
              "      <td>1098</td>\n",
              "    </tr>\n",
              "    <tr>\n",
              "      <th>55821</th>\n",
              "      <td>2889</td>\n",
              "      <td>Bohemian Rhapsody (2018)</td>\n",
              "      <td>Drama</td>\n",
              "      <td>2151</td>\n",
              "    </tr>\n",
              "    <tr>\n",
              "      <th>56570</th>\n",
              "      <td>2921</td>\n",
              "      <td>Green Book (2018)</td>\n",
              "      <td>Comedy|Drama</td>\n",
              "      <td>1971</td>\n",
              "    </tr>\n",
              "    <tr>\n",
              "      <th>56890</th>\n",
              "      <td>859</td>\n",
              "      <td>Spider-Man: Into the Spider-Verse (2018)</td>\n",
              "      <td>Action|Adventure|Animation|Sci-Fi</td>\n",
              "      <td>3085</td>\n",
              "    </tr>\n",
              "    <tr>\n",
              "      <th>59844</th>\n",
              "      <td>3560</td>\n",
              "      <td>Spider-Man: Far from Home (2019)</td>\n",
              "      <td>Action|Adventure|Sci-Fi</td>\n",
              "      <td>1134</td>\n",
              "    </tr>\n",
              "  </tbody>\n",
              "</table>\n",
              "<p>3794 rows × 4 columns</p>\n",
              "</div>"
            ],
            "text/plain": [
              "       movieId  ... num_ratings\n",
              "0           47  ...       57309\n",
              "1         1032  ...       24228\n",
              "2          952  ...       11804\n",
              "3         3041  ...        2523\n",
              "4         1664  ...       11714\n",
              "...        ...  ...         ...\n",
              "55643     3072  ...        1098\n",
              "55821     2889  ...        2151\n",
              "56570     2921  ...        1971\n",
              "56890      859  ...        3085\n",
              "59844     3560  ...        1134\n",
              "\n",
              "[3794 rows x 4 columns]"
            ]
          },
          "metadata": {
            "tags": []
          },
          "execution_count": 14
        }
      ]
    },
    {
      "cell_type": "code",
      "metadata": {
        "id": "rjwNdpyv4GCm",
        "outputId": "ff86ba7c-976e-49f3-e717-f6188ee90b1a",
        "colab": {
          "base_uri": "https://localhost:8080/",
          "height": 68
        }
      },
      "source": [
        "n_movies = len(ratings.movieId.unique())\n",
        "n_users = len(ratings.userId.unique())\n",
        "n_ratings = len(ratings)\n",
        "print('n_movies:', n_movies)\n",
        "print('n_users:', n_users)\n",
        "print('n_ratings:', n_ratings)"
      ],
      "execution_count": 15,
      "outputs": [
        {
          "output_type": "stream",
          "text": [
            "n_movies: 3794\n",
            "n_users: 162539\n",
            "n_ratings: 22141815\n"
          ],
          "name": "stdout"
        }
      ]
    },
    {
      "cell_type": "markdown",
      "metadata": {
        "id": "ObnVPEp7vJvC"
      },
      "source": [
        "Make data torch compatible"
      ]
    },
    {
      "cell_type": "code",
      "metadata": {
        "id": "xKYm-9zUZgHU"
      },
      "source": [
        "class MovieLensDataset(torch.utils.data.Dataset):\n",
        "    def __init__(self, ratings):\n",
        "        self.users = ratings.userId.values.astype(np.int64)\n",
        "        self.movies = ratings.movieId.values.astype(np.int64)\n",
        "        self.ratings = ratings.rating.values.astype(np.float32)\n",
        "\n",
        "    def __len__(self):\n",
        "        return len(self.ratings)\n",
        "\n",
        "    def __getitem__(self, idx):\n",
        "        return self.users[idx], self.movies[idx], self.ratings[idx]"
      ],
      "execution_count": 16,
      "outputs": []
    },
    {
      "cell_type": "code",
      "metadata": {
        "id": "5YcOfo9AK5uL"
      },
      "source": [
        "dataset = MovieLensDataset(ratings)\n",
        "\n",
        "test_size = 100000\n",
        "val_size = 100000\n",
        "train_val_size = len(dataset) - test_size\n",
        "train_size = train_val_size - val_size\n",
        "\n",
        "# Deterministic test split\n",
        "torch.manual_seed(42)\n",
        "trainvalset, testset = torch.utils.data.random_split(dataset, [train_val_size, test_size])\n",
        "# Randomize seed again for train and validation split\n",
        "torch.manual_seed(np.random.randint(100000))\n",
        "trainset, valset = torch.utils.data.random_split(trainvalset, [train_size, val_size])"
      ],
      "execution_count": 17,
      "outputs": []
    },
    {
      "cell_type": "code",
      "metadata": {
        "id": "FrBO3hpuesb9"
      },
      "source": [
        "traingen = torch.utils.data.DataLoader(trainset, batch_size=256, shuffle=True, num_workers=0)\n",
        "valgen = torch.utils.data.DataLoader(valset, batch_size=256, num_workers=0)\n",
        "testgen = torch.utils.data.DataLoader(testset, batch_size=256, num_workers=0)"
      ],
      "execution_count": 18,
      "outputs": []
    },
    {
      "cell_type": "markdown",
      "metadata": {
        "id": "VA98AxJD6dfB"
      },
      "source": [
        "### Matrix factorization"
      ]
    },
    {
      "cell_type": "code",
      "metadata": {
        "id": "T59xJFuZS0fQ"
      },
      "source": [
        "import torch.nn.functional as F\n",
        "from tqdm import tqdm_notebook\n",
        "\n",
        "class MatrixFactorization(torch.nn.Module):\n",
        "    def __init__(self, embedding_dim):\n",
        "        super().__init__()\n",
        "        self.U = torch.nn.Parameter(torch.randn((n_users, embedding_dim)) * 0.01, requires_grad=True)\n",
        "        self.I = torch.nn.Parameter(torch.randn((n_movies, embedding_dim)) * 0.01, requires_grad=True)\n",
        "\n",
        "    def forward(self, user_id, item_id):\n",
        "        return torch.sum(self.U[user_id] * self.I[item_id], axis=1)\n",
        "\n",
        "    def evaluate(self, gen):\n",
        "        self.eval()\n",
        "        with torch.no_grad():\n",
        "            total_loss = 0\n",
        "            for user_ids, movie_ids, ratings in gen:\n",
        "                user_ids, movie_ids, ratings = user_ids.to(device), movie_ids.to(device), ratings.to(device)\n",
        "                p = model(user_ids, movie_ids)\n",
        "                total_loss += F.mse_loss(p, ratings).item()\n",
        "            loss = total_loss / len(gen)\n",
        "            return loss\n",
        "\n",
        "    def fit(self, optimizer, traingen, valgen, max_epochs=None, max_steps=None, print_interval=1000, evaluate=True):\n",
        "        e, i = 0, 0\n",
        "        stop = False\n",
        "        \n",
        "        while True:\n",
        "            self.train()\n",
        "            running_loss = 0.0\n",
        "            partial_loss = 0.0\n",
        "\n",
        "            for user_ids, movie_ids, ratings in traingen:\n",
        "                user_ids, movie_ids, ratings = user_ids.to(device), movie_ids.to(device), ratings.to(device)\n",
        "\n",
        "                p = model(user_ids, movie_ids)\n",
        "                loss = F.mse_loss(p, ratings)\n",
        "\n",
        "                optimizer.zero_grad()\n",
        "                loss.backward()\n",
        "                optimizer.step()\n",
        "\n",
        "                running_loss = 0.99 * running_loss + 0.01 * loss.item()\n",
        "                partial_loss += loss.item()\n",
        "                \n",
        "                i += 1\n",
        "                if i % print_interval == 0:\n",
        "                    print(f'Epoch {e}, Step {i}, Loss: {partial_loss / print_interval}')\n",
        "                    partial_loss = 0\n",
        "                if i >= max_steps:\n",
        "                    stop = True\n",
        "                    break\n",
        "\n",
        "            val_loss = self.evaluate(valgen)\n",
        "\n",
        "            print('Running training loss:', running_loss)\n",
        "            print('Batch validation loss:', val_loss)\n",
        "\n",
        "            e += 1\n",
        "            if e == max_epochs or stop:\n",
        "                break"
      ],
      "execution_count": 19,
      "outputs": []
    },
    {
      "cell_type": "code",
      "metadata": {
        "id": "ly6LvOTQ5t60",
        "outputId": "7f8f5ece-30bc-4b70-81cc-abb4fc6dfdbe",
        "colab": {
          "base_uri": "https://localhost:8080/",
          "height": 34
        }
      },
      "source": [
        "device = torch.device('cuda' if torch.cuda.is_available() else 'cpu')\n",
        "device"
      ],
      "execution_count": 20,
      "outputs": [
        {
          "output_type": "execute_result",
          "data": {
            "text/plain": [
              "device(type='cuda')"
            ]
          },
          "metadata": {
            "tags": []
          },
          "execution_count": 20
        }
      ]
    },
    {
      "cell_type": "code",
      "metadata": {
        "id": "Y50KDDXBV7H3"
      },
      "source": [
        "model = MatrixFactorization(embedding_dim=100).to(device)\n",
        "optimizer = torch.optim.Adam(model.parameters(), lr=0.001, weight_decay=0)"
      ],
      "execution_count": 21,
      "outputs": []
    },
    {
      "cell_type": "code",
      "metadata": {
        "id": "Sy0kgKcg0Lv3",
        "outputId": "2b32105c-e7ca-4bd0-966f-54da819e4d66",
        "colab": {
          "base_uri": "https://localhost:8080/",
          "height": 425
        }
      },
      "source": [
        "model.fit(optimizer, traingen, valgen, max_steps=100000, print_interval=5000)"
      ],
      "execution_count": 22,
      "outputs": [
        {
          "output_type": "stream",
          "text": [
            "Epoch 0, Step 5000, Loss: 6.316866959500313\n",
            "Epoch 0, Step 10000, Loss: 1.4178538162112235\n",
            "Epoch 0, Step 15000, Loss: 1.1432121218919753\n",
            "Epoch 0, Step 20000, Loss: 1.0429588246941566\n",
            "Epoch 0, Step 25000, Loss: 0.9838444051027297\n",
            "Epoch 0, Step 30000, Loss: 0.9424167881131172\n",
            "Epoch 0, Step 35000, Loss: 0.9103831383109092\n",
            "Epoch 0, Step 40000, Loss: 0.8809279952168465\n",
            "Epoch 0, Step 45000, Loss: 0.8580609582901001\n",
            "Epoch 0, Step 50000, Loss: 0.8389864018440246\n",
            "Epoch 0, Step 55000, Loss: 0.8177299563765525\n",
            "Epoch 0, Step 60000, Loss: 0.8017386973500252\n",
            "Epoch 0, Step 65000, Loss: 0.789416436290741\n",
            "Epoch 0, Step 70000, Loss: 0.7737824049711227\n",
            "Epoch 0, Step 75000, Loss: 0.761042411005497\n",
            "Epoch 0, Step 80000, Loss: 0.7507939923048019\n",
            "Epoch 0, Step 85000, Loss: 0.7430362506628037\n",
            "Running training loss: 0.7440797622373445\n",
            "Batch validation loss: 0.7437538577772468\n",
            "Epoch 1, Step 90000, Loss: 0.5718674710154533\n",
            "Epoch 1, Step 95000, Loss: 0.6643115600049496\n",
            "Epoch 1, Step 100000, Loss: 0.6599719904124737\n",
            "Running training loss: 0.6546331115430261\n",
            "Batch validation loss: 0.7231725618967315\n"
          ],
          "name": "stdout"
        }
      ]
    },
    {
      "cell_type": "markdown",
      "metadata": {
        "id": "LxV9FNmxybF6"
      },
      "source": [
        "### Recommendation"
      ]
    },
    {
      "cell_type": "markdown",
      "metadata": {
        "id": "8WyTn8LlymUv"
      },
      "source": [
        "The item-centric way of creating recommendations is to compare the item embeddings and recommend items similar to ones the user likes. It's typically more robust than user-centric recommendations, since it doesn't rely on each user having rated many movies."
      ]
    },
    {
      "cell_type": "code",
      "metadata": {
        "id": "ooxA6Ut2hlcF"
      },
      "source": [
        "movie_embeddings = model.I.cpu().detach().numpy()\n",
        "similarity_matrix = np.corrcoef(movie_embeddings)"
      ],
      "execution_count": 23,
      "outputs": []
    },
    {
      "cell_type": "code",
      "metadata": {
        "id": "qMVJ81J-z5Co"
      },
      "source": [
        "def top_similar_movies(movie_id):\n",
        "    similar = np.argpartition(similarity_matrix[movie_id], np.arange(-10, 0))[-10:][::-1]\n",
        "    similarities = similarity_matrix[movie_id, similar]\n",
        "    top_similar = pd.DataFrame({'movieId': similar, 'similarity': similarities})\n",
        "    return top_similar.merge(movies, on='movieId')"
      ],
      "execution_count": 24,
      "outputs": []
    },
    {
      "cell_type": "code",
      "metadata": {
        "id": "OuMG4qiKUg6f"
      },
      "source": [
        "def top_dissimilar_movies(movie_id):\n",
        "    similar = np.argpartition(similarity_matrix[movie_id], np.arange(10))[:10]\n",
        "    similarities = similarity_matrix[movie_id, similar]\n",
        "    top_similar = pd.DataFrame({'movieId': similar, 'similarity': similarities})\n",
        "    return top_similar.merge(movies, on='movieId')"
      ],
      "execution_count": 25,
      "outputs": []
    },
    {
      "cell_type": "markdown",
      "metadata": {
        "id": "bZ6qEvUohbRX"
      },
      "source": [
        "Example recommendations"
      ]
    },
    {
      "cell_type": "code",
      "metadata": {
        "id": "7pY2U9xc_JoS",
        "outputId": "e4704278-f4a8-4bb2-8119-dea8df7b8688",
        "colab": {
          "base_uri": "https://localhost:8080/",
          "height": 359
        }
      },
      "source": [
        "top_similar_movies(47) # Toy Story"
      ],
      "execution_count": 26,
      "outputs": [
        {
          "output_type": "execute_result",
          "data": {
            "text/html": [
              "<div>\n",
              "<style scoped>\n",
              "    .dataframe tbody tr th:only-of-type {\n",
              "        vertical-align: middle;\n",
              "    }\n",
              "\n",
              "    .dataframe tbody tr th {\n",
              "        vertical-align: top;\n",
              "    }\n",
              "\n",
              "    .dataframe thead th {\n",
              "        text-align: right;\n",
              "    }\n",
              "</style>\n",
              "<table border=\"1\" class=\"dataframe\">\n",
              "  <thead>\n",
              "    <tr style=\"text-align: right;\">\n",
              "      <th></th>\n",
              "      <th>movieId</th>\n",
              "      <th>similarity</th>\n",
              "      <th>title</th>\n",
              "      <th>genres</th>\n",
              "      <th>num_ratings</th>\n",
              "    </tr>\n",
              "  </thead>\n",
              "  <tbody>\n",
              "    <tr>\n",
              "      <th>0</th>\n",
              "      <td>47</td>\n",
              "      <td>1.000000</td>\n",
              "      <td>Toy Story (1995)</td>\n",
              "      <td>Adventure|Animation|Children|Comedy|Fantasy</td>\n",
              "      <td>57309</td>\n",
              "    </tr>\n",
              "    <tr>\n",
              "      <th>1</th>\n",
              "      <td>150</td>\n",
              "      <td>0.929232</td>\n",
              "      <td>Toy Story 2 (1999)</td>\n",
              "      <td>Adventure|Animation|Children|Comedy|Fantasy</td>\n",
              "      <td>26536</td>\n",
              "    </tr>\n",
              "    <tr>\n",
              "      <th>2</th>\n",
              "      <td>612</td>\n",
              "      <td>0.869688</td>\n",
              "      <td>Toy Story 3 (2010)</td>\n",
              "      <td>Adventure|Animation|Children|Comedy|Fantasy|IMAX</td>\n",
              "      <td>14426</td>\n",
              "    </tr>\n",
              "    <tr>\n",
              "      <th>3</th>\n",
              "      <td>129</td>\n",
              "      <td>0.868671</td>\n",
              "      <td>Bug's Life, A (1998)</td>\n",
              "      <td>Adventure|Animation|Children|Comedy</td>\n",
              "      <td>22471</td>\n",
              "    </tr>\n",
              "    <tr>\n",
              "      <th>4</th>\n",
              "      <td>175</td>\n",
              "      <td>0.837668</td>\n",
              "      <td>Monsters, Inc. (2001)</td>\n",
              "      <td>Adventure|Animation|Children|Comedy|Fantasy</td>\n",
              "      <td>34572</td>\n",
              "    </tr>\n",
              "    <tr>\n",
              "      <th>5</th>\n",
              "      <td>31</td>\n",
              "      <td>0.798437</td>\n",
              "      <td>Finding Nemo (2003)</td>\n",
              "      <td>Adventure|Animation|Children|Comedy</td>\n",
              "      <td>34712</td>\n",
              "    </tr>\n",
              "    <tr>\n",
              "      <th>6</th>\n",
              "      <td>823</td>\n",
              "      <td>0.797611</td>\n",
              "      <td>Up (2009)</td>\n",
              "      <td>Adventure|Animation|Children|Drama</td>\n",
              "      <td>25127</td>\n",
              "    </tr>\n",
              "    <tr>\n",
              "      <th>7</th>\n",
              "      <td>208</td>\n",
              "      <td>0.784296</td>\n",
              "      <td>Incredibles, The (2004)</td>\n",
              "      <td>Action|Adventure|Animation|Children|Comedy</td>\n",
              "      <td>30562</td>\n",
              "    </tr>\n",
              "    <tr>\n",
              "      <th>8</th>\n",
              "      <td>508</td>\n",
              "      <td>0.756532</td>\n",
              "      <td>Ratatouille (2007)</td>\n",
              "      <td>Animation|Children|Drama</td>\n",
              "      <td>19157</td>\n",
              "    </tr>\n",
              "    <tr>\n",
              "      <th>9</th>\n",
              "      <td>69</td>\n",
              "      <td>0.749148</td>\n",
              "      <td>Aladdin (1992)</td>\n",
              "      <td>Adventure|Animation|Children|Comedy|Musical</td>\n",
              "      <td>43373</td>\n",
              "    </tr>\n",
              "  </tbody>\n",
              "</table>\n",
              "</div>"
            ],
            "text/plain": [
              "   movieId  ...  num_ratings\n",
              "0       47  ...        57309\n",
              "1      150  ...        26536\n",
              "2      612  ...        14426\n",
              "3      129  ...        22471\n",
              "4      175  ...        34572\n",
              "5       31  ...        34712\n",
              "6      823  ...        25127\n",
              "7      208  ...        30562\n",
              "8      508  ...        19157\n",
              "9       69  ...        43373\n",
              "\n",
              "[10 rows x 5 columns]"
            ]
          },
          "metadata": {
            "tags": []
          },
          "execution_count": 26
        }
      ]
    },
    {
      "cell_type": "code",
      "metadata": {
        "id": "BoXEgacGUfHH",
        "outputId": "9c61e331-2380-42bc-8405-eabc1c1de1a0",
        "colab": {
          "base_uri": "https://localhost:8080/",
          "height": 359
        }
      },
      "source": [
        "top_similar_movies(651) # The Avengers"
      ],
      "execution_count": 27,
      "outputs": [
        {
          "output_type": "execute_result",
          "data": {
            "text/html": [
              "<div>\n",
              "<style scoped>\n",
              "    .dataframe tbody tr th:only-of-type {\n",
              "        vertical-align: middle;\n",
              "    }\n",
              "\n",
              "    .dataframe tbody tr th {\n",
              "        vertical-align: top;\n",
              "    }\n",
              "\n",
              "    .dataframe thead th {\n",
              "        text-align: right;\n",
              "    }\n",
              "</style>\n",
              "<table border=\"1\" class=\"dataframe\">\n",
              "  <thead>\n",
              "    <tr style=\"text-align: right;\">\n",
              "      <th></th>\n",
              "      <th>movieId</th>\n",
              "      <th>similarity</th>\n",
              "      <th>title</th>\n",
              "      <th>genres</th>\n",
              "      <th>num_ratings</th>\n",
              "    </tr>\n",
              "  </thead>\n",
              "  <tbody>\n",
              "    <tr>\n",
              "      <th>0</th>\n",
              "      <td>651</td>\n",
              "      <td>1.000000</td>\n",
              "      <td>Avengers, The (2012)</td>\n",
              "      <td>Action|Adventure|Sci-Fi|IMAX</td>\n",
              "      <td>17572</td>\n",
              "    </tr>\n",
              "    <tr>\n",
              "      <th>1</th>\n",
              "      <td>647</td>\n",
              "      <td>0.915642</td>\n",
              "      <td>Captain America: The First Avenger (2011)</td>\n",
              "      <td>Action|Adventure|Sci-Fi|Thriller|War</td>\n",
              "      <td>8774</td>\n",
              "    </tr>\n",
              "    <tr>\n",
              "      <th>2</th>\n",
              "      <td>746</td>\n",
              "      <td>0.908917</td>\n",
              "      <td>Avengers: Age of Ultron (2015)</td>\n",
              "      <td>Action|Adventure|Sci-Fi</td>\n",
              "      <td>7721</td>\n",
              "    </tr>\n",
              "    <tr>\n",
              "      <th>3</th>\n",
              "      <td>753</td>\n",
              "      <td>0.903804</td>\n",
              "      <td>Captain America: Civil War (2016)</td>\n",
              "      <td>Action|Sci-Fi|Thriller</td>\n",
              "      <td>6302</td>\n",
              "    </tr>\n",
              "    <tr>\n",
              "      <th>4</th>\n",
              "      <td>542</td>\n",
              "      <td>0.901523</td>\n",
              "      <td>Iron Man (2008)</td>\n",
              "      <td>Action|Adventure|Sci-Fi</td>\n",
              "      <td>25671</td>\n",
              "    </tr>\n",
              "    <tr>\n",
              "      <th>5</th>\n",
              "      <td>717</td>\n",
              "      <td>0.900436</td>\n",
              "      <td>Captain America: The Winter Soldier (2014)</td>\n",
              "      <td>Action|Adventure|Sci-Fi|IMAX</td>\n",
              "      <td>8755</td>\n",
              "    </tr>\n",
              "    <tr>\n",
              "      <th>6</th>\n",
              "      <td>683</td>\n",
              "      <td>0.897058</td>\n",
              "      <td>Iron Man 3 (2013)</td>\n",
              "      <td>Action|Sci-Fi|Thriller|IMAX</td>\n",
              "      <td>8265</td>\n",
              "    </tr>\n",
              "    <tr>\n",
              "      <th>7</th>\n",
              "      <td>637</td>\n",
              "      <td>0.885799</td>\n",
              "      <td>Thor (2011)</td>\n",
              "      <td>Action|Adventure|Drama|Fantasy|IMAX</td>\n",
              "      <td>9535</td>\n",
              "    </tr>\n",
              "    <tr>\n",
              "      <th>8</th>\n",
              "      <td>748</td>\n",
              "      <td>0.884795</td>\n",
              "      <td>Ant-Man (2015)</td>\n",
              "      <td>Action|Adventure|Sci-Fi</td>\n",
              "      <td>6406</td>\n",
              "    </tr>\n",
              "    <tr>\n",
              "      <th>9</th>\n",
              "      <td>610</td>\n",
              "      <td>0.878106</td>\n",
              "      <td>Iron Man 2 (2010)</td>\n",
              "      <td>Action|Adventure|Sci-Fi|Thriller|IMAX</td>\n",
              "      <td>11745</td>\n",
              "    </tr>\n",
              "  </tbody>\n",
              "</table>\n",
              "</div>"
            ],
            "text/plain": [
              "   movieId  similarity  ...                                 genres num_ratings\n",
              "0      651    1.000000  ...           Action|Adventure|Sci-Fi|IMAX       17572\n",
              "1      647    0.915642  ...   Action|Adventure|Sci-Fi|Thriller|War        8774\n",
              "2      746    0.908917  ...                Action|Adventure|Sci-Fi        7721\n",
              "3      753    0.903804  ...                 Action|Sci-Fi|Thriller        6302\n",
              "4      542    0.901523  ...                Action|Adventure|Sci-Fi       25671\n",
              "5      717    0.900436  ...           Action|Adventure|Sci-Fi|IMAX        8755\n",
              "6      683    0.897058  ...            Action|Sci-Fi|Thriller|IMAX        8265\n",
              "7      637    0.885799  ...    Action|Adventure|Drama|Fantasy|IMAX        9535\n",
              "8      748    0.884795  ...                Action|Adventure|Sci-Fi        6406\n",
              "9      610    0.878106  ...  Action|Adventure|Sci-Fi|Thriller|IMAX       11745\n",
              "\n",
              "[10 rows x 5 columns]"
            ]
          },
          "metadata": {
            "tags": []
          },
          "execution_count": 27
        }
      ]
    },
    {
      "cell_type": "code",
      "metadata": {
        "id": "aFAN-zJXTkel",
        "outputId": "c3382a99-ed9b-44c9-9a1a-fefdc1a8aeee",
        "colab": {
          "base_uri": "https://localhost:8080/",
          "height": 359
        }
      },
      "source": [
        "top_similar_movies(807) # Spirited Away"
      ],
      "execution_count": 28,
      "outputs": [
        {
          "output_type": "execute_result",
          "data": {
            "text/html": [
              "<div>\n",
              "<style scoped>\n",
              "    .dataframe tbody tr th:only-of-type {\n",
              "        vertical-align: middle;\n",
              "    }\n",
              "\n",
              "    .dataframe tbody tr th {\n",
              "        vertical-align: top;\n",
              "    }\n",
              "\n",
              "    .dataframe thead th {\n",
              "        text-align: right;\n",
              "    }\n",
              "</style>\n",
              "<table border=\"1\" class=\"dataframe\">\n",
              "  <thead>\n",
              "    <tr style=\"text-align: right;\">\n",
              "      <th></th>\n",
              "      <th>movieId</th>\n",
              "      <th>similarity</th>\n",
              "      <th>title</th>\n",
              "      <th>genres</th>\n",
              "      <th>num_ratings</th>\n",
              "    </tr>\n",
              "  </thead>\n",
              "  <tbody>\n",
              "    <tr>\n",
              "      <th>0</th>\n",
              "      <td>807</td>\n",
              "      <td>1.000000</td>\n",
              "      <td>Spirited Away (Sen to Chihiro no kamikakushi) ...</td>\n",
              "      <td>Adventure|Animation|Fantasy</td>\n",
              "      <td>22719</td>\n",
              "    </tr>\n",
              "    <tr>\n",
              "      <th>1</th>\n",
              "      <td>1658</td>\n",
              "      <td>0.917243</td>\n",
              "      <td>Howl's Moving Castle (Hauru no ugoku shiro) (2...</td>\n",
              "      <td>Adventure|Animation|Fantasy|Romance</td>\n",
              "      <td>10512</td>\n",
              "    </tr>\n",
              "    <tr>\n",
              "      <th>2</th>\n",
              "      <td>1653</td>\n",
              "      <td>0.916978</td>\n",
              "      <td>My Neighbor Totoro (Tonari no Totoro) (1988)</td>\n",
              "      <td>Animation|Children|Drama|Fantasy</td>\n",
              "      <td>9340</td>\n",
              "    </tr>\n",
              "    <tr>\n",
              "      <th>3</th>\n",
              "      <td>1545</td>\n",
              "      <td>0.912690</td>\n",
              "      <td>Princess Mononoke (Mononoke-hime) (1997)</td>\n",
              "      <td>Action|Adventure|Animation|Drama|Fantasy</td>\n",
              "      <td>13136</td>\n",
              "    </tr>\n",
              "    <tr>\n",
              "      <th>4</th>\n",
              "      <td>1721</td>\n",
              "      <td>0.894728</td>\n",
              "      <td>Nausicaä of the Valley of the Wind (Kaze no ta...</td>\n",
              "      <td>Adventure|Animation|Drama|Fantasy|Sci-Fi</td>\n",
              "      <td>5300</td>\n",
              "    </tr>\n",
              "    <tr>\n",
              "      <th>5</th>\n",
              "      <td>1655</td>\n",
              "      <td>0.871055</td>\n",
              "      <td>Laputa: Castle in the Sky (Tenkû no shiro Rapy...</td>\n",
              "      <td>Action|Adventure|Animation|Children|Fantasy|Sc...</td>\n",
              "      <td>5448</td>\n",
              "    </tr>\n",
              "    <tr>\n",
              "      <th>6</th>\n",
              "      <td>1718</td>\n",
              "      <td>0.863706</td>\n",
              "      <td>Grave of the Fireflies (Hotaru no haka) (1988)</td>\n",
              "      <td>Animation|Drama|War</td>\n",
              "      <td>4835</td>\n",
              "    </tr>\n",
              "    <tr>\n",
              "      <th>7</th>\n",
              "      <td>1740</td>\n",
              "      <td>0.851741</td>\n",
              "      <td>Ponyo (Gake no ue no Ponyo) (2008)</td>\n",
              "      <td>Adventure|Animation|Children|Fantasy</td>\n",
              "      <td>3348</td>\n",
              "    </tr>\n",
              "    <tr>\n",
              "      <th>8</th>\n",
              "      <td>3704</td>\n",
              "      <td>0.841205</td>\n",
              "      <td>Song of the Sea (2014)</td>\n",
              "      <td>Animation|Children|Fantasy</td>\n",
              "      <td>1108</td>\n",
              "    </tr>\n",
              "    <tr>\n",
              "      <th>9</th>\n",
              "      <td>1737</td>\n",
              "      <td>0.839638</td>\n",
              "      <td>Paprika (Papurika) (2006)</td>\n",
              "      <td>Animation|Mystery|Sci-Fi</td>\n",
              "      <td>2523</td>\n",
              "    </tr>\n",
              "  </tbody>\n",
              "</table>\n",
              "</div>"
            ],
            "text/plain": [
              "   movieId  ...  num_ratings\n",
              "0      807  ...        22719\n",
              "1     1658  ...        10512\n",
              "2     1653  ...         9340\n",
              "3     1545  ...        13136\n",
              "4     1721  ...         5300\n",
              "5     1655  ...         5448\n",
              "6     1718  ...         4835\n",
              "7     1740  ...         3348\n",
              "8     3704  ...         1108\n",
              "9     1737  ...         2523\n",
              "\n",
              "[10 rows x 5 columns]"
            ]
          },
          "metadata": {
            "tags": []
          },
          "execution_count": 28
        }
      ]
    },
    {
      "cell_type": "code",
      "metadata": {
        "id": "OYXeav3Ce6VG",
        "outputId": "ed54d805-a236-43b7-8e7e-d7ad4019040a",
        "colab": {
          "base_uri": "https://localhost:8080/",
          "height": 359
        }
      },
      "source": [
        "top_similar_movies(0) # Pulp Fiction"
      ],
      "execution_count": 29,
      "outputs": [
        {
          "output_type": "execute_result",
          "data": {
            "text/html": [
              "<div>\n",
              "<style scoped>\n",
              "    .dataframe tbody tr th:only-of-type {\n",
              "        vertical-align: middle;\n",
              "    }\n",
              "\n",
              "    .dataframe tbody tr th {\n",
              "        vertical-align: top;\n",
              "    }\n",
              "\n",
              "    .dataframe thead th {\n",
              "        text-align: right;\n",
              "    }\n",
              "</style>\n",
              "<table border=\"1\" class=\"dataframe\">\n",
              "  <thead>\n",
              "    <tr style=\"text-align: right;\">\n",
              "      <th></th>\n",
              "      <th>movieId</th>\n",
              "      <th>similarity</th>\n",
              "      <th>title</th>\n",
              "      <th>genres</th>\n",
              "      <th>num_ratings</th>\n",
              "    </tr>\n",
              "  </thead>\n",
              "  <tbody>\n",
              "    <tr>\n",
              "      <th>0</th>\n",
              "      <td>0</td>\n",
              "      <td>1.000000</td>\n",
              "      <td>Pulp Fiction (1994)</td>\n",
              "      <td>Comedy|Crime|Drama|Thriller</td>\n",
              "      <td>79672</td>\n",
              "    </tr>\n",
              "    <tr>\n",
              "      <th>1</th>\n",
              "      <td>237</td>\n",
              "      <td>0.915222</td>\n",
              "      <td>Reservoir Dogs (1992)</td>\n",
              "      <td>Crime|Mystery|Thriller</td>\n",
              "      <td>34634</td>\n",
              "    </tr>\n",
              "    <tr>\n",
              "      <th>2</th>\n",
              "      <td>243</td>\n",
              "      <td>0.805842</td>\n",
              "      <td>Goodfellas (1990)</td>\n",
              "      <td>Crime|Drama</td>\n",
              "      <td>32663</td>\n",
              "    </tr>\n",
              "    <tr>\n",
              "      <th>3</th>\n",
              "      <td>1203</td>\n",
              "      <td>0.791997</td>\n",
              "      <td>True Romance (1993)</td>\n",
              "      <td>Crime|Thriller</td>\n",
              "      <td>15314</td>\n",
              "    </tr>\n",
              "    <tr>\n",
              "      <th>4</th>\n",
              "      <td>904</td>\n",
              "      <td>0.790113</td>\n",
              "      <td>Fargo (1996)</td>\n",
              "      <td>Comedy|Crime|Drama|Thriller</td>\n",
              "      <td>47823</td>\n",
              "    </tr>\n",
              "    <tr>\n",
              "      <th>5</th>\n",
              "      <td>232</td>\n",
              "      <td>0.781922</td>\n",
              "      <td>Trainspotting (1996)</td>\n",
              "      <td>Comedy|Crime|Drama</td>\n",
              "      <td>28702</td>\n",
              "    </tr>\n",
              "    <tr>\n",
              "      <th>6</th>\n",
              "      <td>265</td>\n",
              "      <td>0.781907</td>\n",
              "      <td>Fight Club (1999)</td>\n",
              "      <td>Action|Crime|Drama|Thriller</td>\n",
              "      <td>58773</td>\n",
              "    </tr>\n",
              "    <tr>\n",
              "      <th>7</th>\n",
              "      <td>1594</td>\n",
              "      <td>0.781406</td>\n",
              "      <td>Grindhouse (2007)</td>\n",
              "      <td>Action|Crime|Horror|Sci-Fi|Thriller</td>\n",
              "      <td>5324</td>\n",
              "    </tr>\n",
              "    <tr>\n",
              "      <th>8</th>\n",
              "      <td>1028</td>\n",
              "      <td>0.775680</td>\n",
              "      <td>Jackie Brown (1997)</td>\n",
              "      <td>Crime|Drama|Thriller</td>\n",
              "      <td>12436</td>\n",
              "    </tr>\n",
              "    <tr>\n",
              "      <th>9</th>\n",
              "      <td>577</td>\n",
              "      <td>0.774762</td>\n",
              "      <td>Inglourious Basterds (2009)</td>\n",
              "      <td>Action|Drama|War</td>\n",
              "      <td>23077</td>\n",
              "    </tr>\n",
              "  </tbody>\n",
              "</table>\n",
              "</div>"
            ],
            "text/plain": [
              "   movieId  similarity  ...                               genres num_ratings\n",
              "0        0    1.000000  ...          Comedy|Crime|Drama|Thriller       79672\n",
              "1      237    0.915222  ...               Crime|Mystery|Thriller       34634\n",
              "2      243    0.805842  ...                          Crime|Drama       32663\n",
              "3     1203    0.791997  ...                       Crime|Thriller       15314\n",
              "4      904    0.790113  ...          Comedy|Crime|Drama|Thriller       47823\n",
              "5      232    0.781922  ...                   Comedy|Crime|Drama       28702\n",
              "6      265    0.781907  ...          Action|Crime|Drama|Thriller       58773\n",
              "7     1594    0.781406  ...  Action|Crime|Horror|Sci-Fi|Thriller        5324\n",
              "8     1028    0.775680  ...                 Crime|Drama|Thriller       12436\n",
              "9      577    0.774762  ...                     Action|Drama|War       23077\n",
              "\n",
              "[10 rows x 5 columns]"
            ]
          },
          "metadata": {
            "tags": []
          },
          "execution_count": 29
        }
      ]
    },
    {
      "cell_type": "markdown",
      "metadata": {
        "id": "y41s8bs7Z4ba"
      },
      "source": [
        "Explore more movies"
      ]
    },
    {
      "cell_type": "code",
      "metadata": {
        "id": "V51le6mZaFur"
      },
      "source": [
        "def movie_search(movie_title):\n",
        "    return movies[movies.title.str.contains(movie_title)]"
      ],
      "execution_count": null,
      "outputs": []
    },
    {
      "cell_type": "code",
      "metadata": {
        "id": "OxJiwKkJZYT4"
      },
      "source": [
        "movie_search(\"<insert movie title>\")"
      ],
      "execution_count": null,
      "outputs": []
    },
    {
      "cell_type": "code",
      "metadata": {
        "id": "KH1Ci5fJagwl"
      },
      "source": [
        "top_similar_movies(<insert movieId>)"
      ],
      "execution_count": null,
      "outputs": []
    },
    {
      "cell_type": "markdown",
      "metadata": {
        "id": "b6QuBzoC44cB"
      },
      "source": [
        "### Save/Load model"
      ]
    },
    {
      "cell_type": "code",
      "metadata": {
        "id": "YThd3GwPVAJN"
      },
      "source": [
        "models_dir = '/content/drive/My Drive/ML/models/'"
      ],
      "execution_count": 30,
      "outputs": []
    },
    {
      "cell_type": "code",
      "metadata": {
        "id": "8SrESJMeT5U6"
      },
      "source": [
        "torch.save(model.state_dict(), models_dir + 'CollaborativeFilteringMovieLens.pt')"
      ],
      "execution_count": 31,
      "outputs": []
    },
    {
      "cell_type": "code",
      "metadata": {
        "id": "K-Sqbo_GUlAc"
      },
      "source": [
        "model = MatrixFactorization(100)\n",
        "model.load_state_dict(torch.load(models_dir + 'CollaborativeFilteringMovieLens.pt'))"
      ],
      "execution_count": null,
      "outputs": []
    }
  ]
}